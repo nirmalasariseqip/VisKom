{
  "nbformat": 4,
  "nbformat_minor": 0,
  "metadata": {
    "colab": {
      "provenance": []
    },
    "kernelspec": {
      "name": "python3",
      "display_name": "Python 3"
    },
    "language_info": {
      "name": "python"
    }
  },
  "cells": [
    {
      "cell_type": "code",
      "execution_count": null,
      "metadata": {
        "id": "qSVmvRu-45zI"
      },
      "outputs": [],
      "source": [
        "import cv2 # digunakan untuk operasi citra\n",
        "import numpy as np # digunakan untuk operasi matematika\n",
        "from sklearn.cluster import AgglomerativeClustering # digunakan untuk algoritma clustering\n",
        "from sklearn.metrics.pairwise import cosine_similarity # digunakan perhitungan similarity\n",
        "from google.colab.patches import cv2_imshow # digunakan untuk menampilkan gambar dari citra\n",
        "\n",
        "\n",
        "\n",
        "# Membaca citra asli\n",
        "original_img = cv2.imread('Original 0.jpg')\n",
        "\n",
        "# Membaca citra palsu\n",
        "forgery_img = cv2.imread('rotated 0.jpg')\n",
        "\n",
        "\n",
        "\n",
        "# Menampilkan citra asli\n",
        "print(\"Original\\n\")\n",
        "print(cv2_imshow(original_img))\n",
        "\n",
        "# Menampilkan citra palsu\n",
        "print(\"\\n Fake\\n\")\n",
        "print(cv2_imshow(forgery_img))\n",
        "\n",
        "\n",
        "\n",
        "# Mendeteksi key-points pada citra asli\n",
        "sift = cv2.xfeatures2d.SIFT_create()\n",
        "original_kp, original_desc = sift.detectAndCompute(original_img, None)\n",
        "\n",
        "# Mendeteksi key-points pada citra palsu\n",
        "forgery_kp, forgery_desc = sift.detectAndCompute(forgery_img, None)\n",
        "\n",
        "\n",
        "\n",
        "# Menggunakan Centroid Linkage Clustering untuk mengelompokkan key-points pada citra asli\n",
        "original_clustering = AgglomerativeClustering().fit(original_desc)\n",
        "original_clusters = original_clustering.labels_\n",
        "\n",
        "print(original_clusters ,\"\\n\")\n",
        "\n",
        "# Menggunakan Centroid Linkage Clustering untuk mengelompokkan key-points pada citra palsu\n",
        "forgery_clustering = AgglomerativeClustering().fit(forgery_desc)\n",
        "forgery_clusters = forgery_clustering.labels_\n",
        "\n",
        "print(forgery_clusters)\n",
        "\n",
        "\n",
        "\n",
        "# Menghitung similarity antara region pada citra asli dan citra palsu\n",
        "similarity = cosine_similarity(original_desc, forgery_desc)\n",
        "\n",
        "# Mengambil nilai similarity\n",
        "similarity = similarity[0][0]\n",
        "\n",
        "\n",
        "\n",
        "# Membuat threshold similarity\n",
        "threshold = 0.8\n",
        "\n",
        "# Membuat kondisi untuk menentukan apakah citra asli dan citra palsu sama atau tidak\n",
        "if similarity > threshold:\n",
        "  print(\"Kedua Citra sama, dengan Similarity\", similarity)\n",
        "else:\n",
        "  print(\"Kedua Citra berbeda, dengan Similarity\", similarity)"
      ]
    }
  ]
}